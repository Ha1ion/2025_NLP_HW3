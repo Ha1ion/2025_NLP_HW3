{
  "cells": [
    {
      "cell_type": "markdown",
      "metadata": {
        "id": "view-in-github",
        "colab_type": "text"
      },
      "source": [
        "<a href=\"https://colab.research.google.com/github/Ha1ion/2025_NLP_HW3/blob/main/nlp_hw3_RoBERTa.ipynb\" target=\"_parent\"><img src=\"https://colab.research.google.com/assets/colab-badge.svg\" alt=\"Open In Colab\"/></a>"
      ]
    },
    {
      "cell_type": "markdown",
      "source": [
        "此作業有使用Gemini幫忙下註解幫助批改"
      ],
      "metadata": {
        "id": "2yx5T8GwAKqk"
      }
    },
    {
      "cell_type": "code",
      "source": [
        "!pip install \"datasets==2.18.0\""
      ],
      "metadata": {
        "colab": {
          "base_uri": "https://localhost:8080/"
        },
        "id": "Q0WV2JvO_kZG",
        "outputId": "045b5b83-1f44-480b-b28e-c8385ee886bf"
      },
      "execution_count": 1,
      "outputs": [
        {
          "output_type": "stream",
          "name": "stdout",
          "text": [
            "Collecting datasets==2.18.0\n",
            "  Downloading datasets-2.18.0-py3-none-any.whl.metadata (20 kB)\n",
            "Requirement already satisfied: filelock in /usr/local/lib/python3.12/dist-packages (from datasets==2.18.0) (3.20.0)\n",
            "Requirement already satisfied: numpy>=1.17 in /usr/local/lib/python3.12/dist-packages (from datasets==2.18.0) (2.0.2)\n",
            "Requirement already satisfied: pyarrow>=12.0.0 in /usr/local/lib/python3.12/dist-packages (from datasets==2.18.0) (18.1.0)\n",
            "Collecting pyarrow-hotfix (from datasets==2.18.0)\n",
            "  Downloading pyarrow_hotfix-0.7-py3-none-any.whl.metadata (3.6 kB)\n",
            "Requirement already satisfied: dill<0.3.9,>=0.3.0 in /usr/local/lib/python3.12/dist-packages (from datasets==2.18.0) (0.3.8)\n",
            "Requirement already satisfied: pandas in /usr/local/lib/python3.12/dist-packages (from datasets==2.18.0) (2.2.2)\n",
            "Requirement already satisfied: requests>=2.19.0 in /usr/local/lib/python3.12/dist-packages (from datasets==2.18.0) (2.32.4)\n",
            "Requirement already satisfied: tqdm>=4.62.1 in /usr/local/lib/python3.12/dist-packages (from datasets==2.18.0) (4.67.1)\n",
            "Requirement already satisfied: xxhash in /usr/local/lib/python3.12/dist-packages (from datasets==2.18.0) (3.6.0)\n",
            "Requirement already satisfied: multiprocess in /usr/local/lib/python3.12/dist-packages (from datasets==2.18.0) (0.70.16)\n",
            "Collecting fsspec<=2024.2.0,>=2023.1.0 (from fsspec[http]<=2024.2.0,>=2023.1.0->datasets==2.18.0)\n",
            "  Downloading fsspec-2024.2.0-py3-none-any.whl.metadata (6.8 kB)\n",
            "Requirement already satisfied: aiohttp in /usr/local/lib/python3.12/dist-packages (from datasets==2.18.0) (3.13.1)\n",
            "Requirement already satisfied: huggingface-hub>=0.19.4 in /usr/local/lib/python3.12/dist-packages (from datasets==2.18.0) (0.36.0)\n",
            "Requirement already satisfied: packaging in /usr/local/lib/python3.12/dist-packages (from datasets==2.18.0) (25.0)\n",
            "Requirement already satisfied: pyyaml>=5.1 in /usr/local/lib/python3.12/dist-packages (from datasets==2.18.0) (6.0.3)\n",
            "Requirement already satisfied: aiohappyeyeballs>=2.5.0 in /usr/local/lib/python3.12/dist-packages (from aiohttp->datasets==2.18.0) (2.6.1)\n",
            "Requirement already satisfied: aiosignal>=1.4.0 in /usr/local/lib/python3.12/dist-packages (from aiohttp->datasets==2.18.0) (1.4.0)\n",
            "Requirement already satisfied: attrs>=17.3.0 in /usr/local/lib/python3.12/dist-packages (from aiohttp->datasets==2.18.0) (25.4.0)\n",
            "Requirement already satisfied: frozenlist>=1.1.1 in /usr/local/lib/python3.12/dist-packages (from aiohttp->datasets==2.18.0) (1.8.0)\n",
            "Requirement already satisfied: multidict<7.0,>=4.5 in /usr/local/lib/python3.12/dist-packages (from aiohttp->datasets==2.18.0) (6.7.0)\n",
            "Requirement already satisfied: propcache>=0.2.0 in /usr/local/lib/python3.12/dist-packages (from aiohttp->datasets==2.18.0) (0.4.1)\n",
            "Requirement already satisfied: yarl<2.0,>=1.17.0 in /usr/local/lib/python3.12/dist-packages (from aiohttp->datasets==2.18.0) (1.22.0)\n",
            "Requirement already satisfied: typing-extensions>=3.7.4.3 in /usr/local/lib/python3.12/dist-packages (from huggingface-hub>=0.19.4->datasets==2.18.0) (4.15.0)\n",
            "Requirement already satisfied: hf-xet<2.0.0,>=1.1.3 in /usr/local/lib/python3.12/dist-packages (from huggingface-hub>=0.19.4->datasets==2.18.0) (1.2.0)\n",
            "Requirement already satisfied: charset_normalizer<4,>=2 in /usr/local/lib/python3.12/dist-packages (from requests>=2.19.0->datasets==2.18.0) (3.4.4)\n",
            "Requirement already satisfied: idna<4,>=2.5 in /usr/local/lib/python3.12/dist-packages (from requests>=2.19.0->datasets==2.18.0) (3.11)\n",
            "Requirement already satisfied: urllib3<3,>=1.21.1 in /usr/local/lib/python3.12/dist-packages (from requests>=2.19.0->datasets==2.18.0) (2.5.0)\n",
            "Requirement already satisfied: certifi>=2017.4.17 in /usr/local/lib/python3.12/dist-packages (from requests>=2.19.0->datasets==2.18.0) (2025.10.5)\n",
            "Requirement already satisfied: python-dateutil>=2.8.2 in /usr/local/lib/python3.12/dist-packages (from pandas->datasets==2.18.0) (2.9.0.post0)\n",
            "Requirement already satisfied: pytz>=2020.1 in /usr/local/lib/python3.12/dist-packages (from pandas->datasets==2.18.0) (2025.2)\n",
            "Requirement already satisfied: tzdata>=2022.7 in /usr/local/lib/python3.12/dist-packages (from pandas->datasets==2.18.0) (2025.2)\n",
            "Requirement already satisfied: six>=1.5 in /usr/local/lib/python3.12/dist-packages (from python-dateutil>=2.8.2->pandas->datasets==2.18.0) (1.17.0)\n",
            "Downloading datasets-2.18.0-py3-none-any.whl (510 kB)\n",
            "\u001b[2K   \u001b[90m━━━━━━━━━━━━━━━━━━━━━━━━━━━━━━━━━━━━━━━━\u001b[0m \u001b[32m510.5/510.5 kB\u001b[0m \u001b[31m11.3 MB/s\u001b[0m eta \u001b[36m0:00:00\u001b[0m\n",
            "\u001b[?25hDownloading fsspec-2024.2.0-py3-none-any.whl (170 kB)\n",
            "\u001b[2K   \u001b[90m━━━━━━━━━━━━━━━━━━━━━━━━━━━━━━━━━━━━━━━━\u001b[0m \u001b[32m170.9/170.9 kB\u001b[0m \u001b[31m18.4 MB/s\u001b[0m eta \u001b[36m0:00:00\u001b[0m\n",
            "\u001b[?25hDownloading pyarrow_hotfix-0.7-py3-none-any.whl (7.9 kB)\n",
            "Installing collected packages: pyarrow-hotfix, fsspec, datasets\n",
            "  Attempting uninstall: fsspec\n",
            "    Found existing installation: fsspec 2025.3.0\n",
            "    Uninstalling fsspec-2025.3.0:\n",
            "      Successfully uninstalled fsspec-2025.3.0\n",
            "  Attempting uninstall: datasets\n",
            "    Found existing installation: datasets 4.0.0\n",
            "    Uninstalling datasets-4.0.0:\n",
            "      Successfully uninstalled datasets-4.0.0\n",
            "\u001b[31mERROR: pip's dependency resolver does not currently take into account all the packages that are installed. This behaviour is the source of the following dependency conflicts.\n",
            "gcsfs 2025.3.0 requires fsspec==2025.3.0, but you have fsspec 2024.2.0 which is incompatible.\u001b[0m\u001b[31m\n",
            "\u001b[0mSuccessfully installed datasets-2.18.0 fsspec-2024.2.0 pyarrow-hotfix-0.7\n"
          ]
        }
      ]
    },
    {
      "cell_type": "code",
      "execution_count": 2,
      "metadata": {
        "colab": {
          "base_uri": "https://localhost:8080/"
        },
        "id": "gOrPV3dRBQeo",
        "outputId": "60eced28-22d1-4bda-fd3a-052165eefe57"
      },
      "outputs": [
        {
          "output_type": "stream",
          "name": "stdout",
          "text": [
            "Requirement already satisfied: transformers in /usr/local/lib/python3.12/dist-packages (4.57.1)\n",
            "Requirement already satisfied: datasets in /usr/local/lib/python3.12/dist-packages (2.18.0)\n",
            "Collecting evaluate\n",
            "  Downloading evaluate-0.4.6-py3-none-any.whl.metadata (9.5 kB)\n",
            "Requirement already satisfied: filelock in /usr/local/lib/python3.12/dist-packages (from transformers) (3.20.0)\n",
            "Requirement already satisfied: huggingface-hub<1.0,>=0.34.0 in /usr/local/lib/python3.12/dist-packages (from transformers) (0.36.0)\n",
            "Requirement already satisfied: numpy>=1.17 in /usr/local/lib/python3.12/dist-packages (from transformers) (2.0.2)\n",
            "Requirement already satisfied: packaging>=20.0 in /usr/local/lib/python3.12/dist-packages (from transformers) (25.0)\n",
            "Requirement already satisfied: pyyaml>=5.1 in /usr/local/lib/python3.12/dist-packages (from transformers) (6.0.3)\n",
            "Requirement already satisfied: regex!=2019.12.17 in /usr/local/lib/python3.12/dist-packages (from transformers) (2024.11.6)\n",
            "Requirement already satisfied: requests in /usr/local/lib/python3.12/dist-packages (from transformers) (2.32.4)\n",
            "Requirement already satisfied: tokenizers<=0.23.0,>=0.22.0 in /usr/local/lib/python3.12/dist-packages (from transformers) (0.22.1)\n",
            "Requirement already satisfied: safetensors>=0.4.3 in /usr/local/lib/python3.12/dist-packages (from transformers) (0.6.2)\n",
            "Requirement already satisfied: tqdm>=4.27 in /usr/local/lib/python3.12/dist-packages (from transformers) (4.67.1)\n",
            "Requirement already satisfied: pyarrow>=12.0.0 in /usr/local/lib/python3.12/dist-packages (from datasets) (18.1.0)\n",
            "Requirement already satisfied: pyarrow-hotfix in /usr/local/lib/python3.12/dist-packages (from datasets) (0.7)\n",
            "Requirement already satisfied: dill<0.3.9,>=0.3.0 in /usr/local/lib/python3.12/dist-packages (from datasets) (0.3.8)\n",
            "Requirement already satisfied: pandas in /usr/local/lib/python3.12/dist-packages (from datasets) (2.2.2)\n",
            "Requirement already satisfied: xxhash in /usr/local/lib/python3.12/dist-packages (from datasets) (3.6.0)\n",
            "Requirement already satisfied: multiprocess in /usr/local/lib/python3.12/dist-packages (from datasets) (0.70.16)\n",
            "Requirement already satisfied: fsspec<=2024.2.0,>=2023.1.0 in /usr/local/lib/python3.12/dist-packages (from fsspec[http]<=2024.2.0,>=2023.1.0->datasets) (2024.2.0)\n",
            "Requirement already satisfied: aiohttp in /usr/local/lib/python3.12/dist-packages (from datasets) (3.13.1)\n",
            "Requirement already satisfied: aiohappyeyeballs>=2.5.0 in /usr/local/lib/python3.12/dist-packages (from aiohttp->datasets) (2.6.1)\n",
            "Requirement already satisfied: aiosignal>=1.4.0 in /usr/local/lib/python3.12/dist-packages (from aiohttp->datasets) (1.4.0)\n",
            "Requirement already satisfied: attrs>=17.3.0 in /usr/local/lib/python3.12/dist-packages (from aiohttp->datasets) (25.4.0)\n",
            "Requirement already satisfied: frozenlist>=1.1.1 in /usr/local/lib/python3.12/dist-packages (from aiohttp->datasets) (1.8.0)\n",
            "Requirement already satisfied: multidict<7.0,>=4.5 in /usr/local/lib/python3.12/dist-packages (from aiohttp->datasets) (6.7.0)\n",
            "Requirement already satisfied: propcache>=0.2.0 in /usr/local/lib/python3.12/dist-packages (from aiohttp->datasets) (0.4.1)\n",
            "Requirement already satisfied: yarl<2.0,>=1.17.0 in /usr/local/lib/python3.12/dist-packages (from aiohttp->datasets) (1.22.0)\n",
            "Requirement already satisfied: typing-extensions>=3.7.4.3 in /usr/local/lib/python3.12/dist-packages (from huggingface-hub<1.0,>=0.34.0->transformers) (4.15.0)\n",
            "Requirement already satisfied: hf-xet<2.0.0,>=1.1.3 in /usr/local/lib/python3.12/dist-packages (from huggingface-hub<1.0,>=0.34.0->transformers) (1.2.0)\n",
            "Requirement already satisfied: charset_normalizer<4,>=2 in /usr/local/lib/python3.12/dist-packages (from requests->transformers) (3.4.4)\n",
            "Requirement already satisfied: idna<4,>=2.5 in /usr/local/lib/python3.12/dist-packages (from requests->transformers) (3.11)\n",
            "Requirement already satisfied: urllib3<3,>=1.21.1 in /usr/local/lib/python3.12/dist-packages (from requests->transformers) (2.5.0)\n",
            "Requirement already satisfied: certifi>=2017.4.17 in /usr/local/lib/python3.12/dist-packages (from requests->transformers) (2025.10.5)\n",
            "Requirement already satisfied: python-dateutil>=2.8.2 in /usr/local/lib/python3.12/dist-packages (from pandas->datasets) (2.9.0.post0)\n",
            "Requirement already satisfied: pytz>=2020.1 in /usr/local/lib/python3.12/dist-packages (from pandas->datasets) (2025.2)\n",
            "Requirement already satisfied: tzdata>=2022.7 in /usr/local/lib/python3.12/dist-packages (from pandas->datasets) (2025.2)\n",
            "Requirement already satisfied: six>=1.5 in /usr/local/lib/python3.12/dist-packages (from python-dateutil>=2.8.2->pandas->datasets) (1.17.0)\n",
            "Downloading evaluate-0.4.6-py3-none-any.whl (84 kB)\n",
            "\u001b[2K   \u001b[90m━━━━━━━━━━━━━━━━━━━━━━━━━━━━━━━━━━━━━━━━\u001b[0m \u001b[32m84.1/84.1 kB\u001b[0m \u001b[31m5.6 MB/s\u001b[0m eta \u001b[36m0:00:00\u001b[0m\n",
            "\u001b[?25hInstalling collected packages: evaluate\n",
            "Successfully installed evaluate-0.4.6\n"
          ]
        }
      ],
      "source": [
        "!pip install transformers datasets evaluate\n",
        "from transformers import BertTokenizer, BertModel, RobertaTokenizer, RobertaModel\n",
        "from datasets import load_dataset\n",
        "from evaluate import load\n",
        "import torch\n",
        "from torch.utils.data import Dataset, DataLoader\n",
        "from torch.optim import AdamW\n",
        "from tqdm import tqdm\n",
        "device = \"cuda\" if torch.cuda.is_available() else \"cpu\"\n",
        "#  You can install and import any other libraries if needed"
      ]
    },
    {
      "cell_type": "code",
      "execution_count": 3,
      "metadata": {
        "id": "biBQQmrgBQet"
      },
      "outputs": [],
      "source": [
        "# Some Chinese punctuations will be tokenized as [UNK], so we replace them with English ones\n",
        "token_replacement = [\n",
        "    [\"：\" , \":\"],\n",
        "    [\"，\" , \",\"],\n",
        "    [\"“\" , \"\\\"\"],\n",
        "    [\"”\" , \"\\\"\"],\n",
        "    [\"？\" , \"?\"],\n",
        "    [\"……\" , \"...\"],\n",
        "    [\"！\" , \"!\"]\n",
        "]"
      ]
    },
    {
      "cell_type": "code",
      "execution_count": null,
      "metadata": {
        "id": "krju_GCVBQeu"
      },
      "outputs": [],
      "source": [
        "tokenizer = RobertaTokenizer.from_pretrained(\"roberta-base\", cache_dir=\"./cache/\")"
      ]
    },
    {
      "cell_type": "code",
      "execution_count": null,
      "metadata": {
        "id": "iWVnbU7OBQev"
      },
      "outputs": [],
      "source": [
        "class SemevalDataset(Dataset):\n",
        "    def __init__(self, split=\"train\") -> None:\n",
        "        super().__init__()\n",
        "        assert split in [\"train\", \"validation\", \"test\"]\n",
        "        self.data = load_dataset(\n",
        "            \"sem_eval_2014_task_1\", split=split, trust_remote_code=True, cache_dir=\"./cache/\"\n",
        "        ).to_list()\n",
        "\n",
        "    def __getitem__(self, index):\n",
        "        d = self.data[index]\n",
        "        # Replace Chinese punctuations with English ones\n",
        "        for k in [\"premise\", \"hypothesis\"]:\n",
        "            for tok in token_replacement:\n",
        "                d[k] = d[k].replace(tok[0], tok[1])\n",
        "        return d\n",
        "\n",
        "    def __len__(self):\n",
        "        return len(self.data)\n",
        "\n",
        "data_sample = SemevalDataset(split=\"train\").data[:3]\n",
        "print(f\"Dataset example: \\n{data_sample[0]} \\n{data_sample[1]} \\n{data_sample[2]}\")"
      ]
    },
    {
      "cell_type": "code",
      "execution_count": 6,
      "metadata": {
        "id": "bWfp27QCBQew"
      },
      "outputs": [],
      "source": [
        "# Define the hyperparameters\n",
        "# You can modify these values if needed\n",
        "lr = 3e-5\n",
        "epochs = 3\n",
        "train_batch_size = 8\n",
        "validation_batch_size = 8"
      ]
    },
    {
      "cell_type": "code",
      "execution_count": 7,
      "metadata": {
        "id": "D8SGq6m-BQex"
      },
      "outputs": [],
      "source": [
        "# TODO1: Create batched data for DataLoader\n",
        "# `collate_fn` is a function that defines how the data batch should be packed.\n",
        "# This function will be called in the DataLoader to pack the data batch.\n",
        "\n",
        "def collate_fn(batch):\n",
        "    # TODO1-1: Implement the collate_fn function\n",
        "\n",
        "    # 1. 從 batch 中分別取出所有 premise 和 hypothesis\n",
        "    premises = [d['premise'] for d in batch]\n",
        "    hypotheses = [d['hypothesis'] for d in batch]\n",
        "\n",
        "    # 2. 使用 tokenizer 處理句子對\n",
        "    inputs = tokenizer(\n",
        "        premises,\n",
        "        hypotheses,\n",
        "        padding=True,\n",
        "        truncation=True,\n",
        "        return_tensors=\"pt\"\n",
        "    )\n",
        "\n",
        "    # 3. 處理標籤\n",
        "    # [FIX]: 根據 print 輸出的真實 key\n",
        "\n",
        "    # Sub-task 1: 使用 'relatedness_score'\n",
        "    inputs['labels_sim'] = torch.tensor(\n",
        "        [d['relatedness_score'] for d in batch],\n",
        "        dtype=torch.float\n",
        "    )\n",
        "\n",
        "    # Sub-task 2: 使用 'entailment_judgment' (注意拼寫!)\n",
        "    inputs['labels_ent'] = torch.tensor(\n",
        "        [d['entailment_judgment'] for d in batch],\n",
        "        dtype=torch.long\n",
        "    )\n",
        "\n",
        "    return inputs\n",
        "\n",
        "# TODO1-2: Define your DataLoader\n",
        "# (這部分的程式碼 dl_train, dl_validation, dl_test 保持不變)\n",
        "\n",
        "# 1. 建立 Dataset 實例\n",
        "train_dataset = SemevalDataset(split=\"train\")\n",
        "validation_dataset = SemevalDataset(split=\"validation\")\n",
        "test_dataset = SemevalDataset(split=\"test\")\n",
        "\n",
        "# 2. 建立 DataLoader\n",
        "dl_train = DataLoader(\n",
        "    train_dataset,\n",
        "    batch_size=train_batch_size,\n",
        "    shuffle=True,\n",
        "    collate_fn=collate_fn\n",
        ")\n",
        "\n",
        "dl_validation = DataLoader(\n",
        "    validation_dataset,\n",
        "    batch_size=validation_batch_size,\n",
        "    shuffle=False,\n",
        "    collate_fn=collate_fn\n",
        ")\n",
        "\n",
        "dl_test = DataLoader(\n",
        "    test_dataset,\n",
        "    batch_size=validation_batch_size,\n",
        "    shuffle=False,\n",
        "    collate_fn=collate_fn\n",
        ")"
      ]
    },
    {
      "cell_type": "code",
      "execution_count": 8,
      "metadata": {
        "id": "PU0mrJ8vBQey"
      },
      "outputs": [],
      "source": [
        "# TODO2: Construct your model\n",
        "class MultiLabelModel(torch.nn.Module):\n",
        "    def __init__(self, *args, **kwargs):\n",
        "        super().__init__(*args, **kwargs)\n",
        "        # Write your code here\n",
        "        # Define what modules you will use in the model\n",
        "        # Please use \"google-bert/bert-base-uncased\" model (https://huggingface.co/google-bert/bert-base-uncased)\n",
        "        # Besides the base model, you may design additional architectures by incorporating linear layers, activation functions, or other neural components.\n",
        "        # Remark: The use of any additional pretrained language models is not permitted.\n",
        "\n",
        "        # 1. 載入模型\n",
        "        self.bert = RobertaModel.from_pretrained(\n",
        "            \"roberta-base\",\n",
        "            cache_dir=\"./cache/\"\n",
        "        )\n",
        "\n",
        "        hidden_size = self.bert.config.hidden_size\n",
        "\n",
        "        # 2. 定義 Sub-task 1 (迴歸) 的輸出頭\n",
        "        # 輸出維度為 1 (預測 relatedness_score)\n",
        "        self.regression_head = torch.nn.Linear(hidden_size, 1)\n",
        "\n",
        "        # 3. 定義 Sub-task 2 (分類) 的輸出頭\n",
        "        # 輸出維度為 3 (3 個類別: 0, 1, 2)\n",
        "        self.classification_head = torch.nn.Linear(hidden_size, 3)\n",
        "\n",
        "    def forward(self, **kwargs):\n",
        "        # Write your code here\n",
        "        # Forward pass\n",
        "\n",
        "        # 1. 將 collate_fn 傳來的 input_ids 和 attention_mask 傳入 BERT\n",
        "        # 我們從 **kwargs 中取出 'labels_sim' 和 'labels_ent'，這樣它們就不會被傳入 BERT\n",
        "        labels_sim = kwargs.pop(\"labels_sim\", None)\n",
        "        labels_ent = kwargs.pop(\"labels_ent\", None)\n",
        "\n",
        "        # **kwargs 現在只包含 BERT 接受的參數 (input_ids, attention_mask, token_type_ids)\n",
        "        bert_output = self.bert(**kwargs)\n",
        "\n",
        "        # 2. 取得 [CLS] token 的輸出 (pooler_output)\n",
        "        # 這是整個輸入序列 (premise + hypothesis) 的語意表示\n",
        "        pooled_output = bert_output.pooler_output\n",
        "\n",
        "        # 3. 將 pooled_output 分別傳入兩個 head\n",
        "        logits_sim = self.regression_head(pooled_output)\n",
        "        logits_ent = self.classification_head(pooled_output)\n",
        "\n",
        "        # 4. 回傳兩個 head 的輸出\n",
        "        return logits_sim, logits_ent"
      ]
    },
    {
      "cell_type": "code",
      "execution_count": null,
      "metadata": {
        "id": "6HPa7yD1BQez"
      },
      "outputs": [],
      "source": [
        "# TODO3: Define your optimizer and loss function\n",
        "\n",
        "model = MultiLabelModel().to(device)\n",
        "# TODO3-1: Define your Optimizer\n",
        "# We use AdamW as recommended by the PDF  and it's standard for Transformers.\n",
        "optimizer = AdamW(model.parameters(), lr=lr)\n",
        "\n",
        "# TODO3-2: Define your loss functions (you should have two) [cite: 171]\n",
        "# Use different loss functions for different types of tasks.\n",
        "\n",
        "# Sub-task 1 (relatedness_score) is regression, so we use MSELoss.\n",
        "loss_sim_fn = torch.nn.MSELoss()\n",
        "\n",
        "# Sub-task 2 (entailment_judgement) is 3-class classification, so we use CrossEntropyLoss.\n",
        "loss_ent_fn = torch.nn.CrossEntropyLoss()\n",
        "\n",
        "\n",
        "# scoring functions\n",
        "psr = load(\"pearsonr\")\n",
        "acc = load(\"accuracy\")"
      ]
    },
    {
      "cell_type": "code",
      "source": [
        "best_score = 0.0\n",
        "for ep in range(epochs):\n",
        "    pbar = tqdm(dl_train)\n",
        "    pbar.set_description(f\"Training epoch [{ep+1}/{epochs}]\")\n",
        "    model.train()\n",
        "    # TODO4: Write the training loop\n",
        "    # Write your code here\n",
        "    # train your model\n",
        "    # clear gradient\n",
        "    # forward pass\n",
        "    # compute loss\n",
        "    # back-propagation\n",
        "    # model optimization\n",
        "\n",
        "    # 初始化 total loss 來追蹤這個 epoch 的平均 loss\n",
        "    total_train_loss = 0.0\n",
        "\n",
        "    for batch in pbar:\n",
        "        # 1. 將資料移動到 device\n",
        "        batch = {k: v.to(device) for k, v in batch.items()}\n",
        "\n",
        "        # 2. 取得標籤\n",
        "        labels_sim = batch['labels_sim']\n",
        "        labels_ent = batch['labels_ent']\n",
        "\n",
        "        # 3. clear gradient\n",
        "        optimizer.zero_grad()\n",
        "\n",
        "        # 4. forward pass\n",
        "        # 我們在模型 forward 中已經處理了 **kwargs，所以可以直接傳入 batch\n",
        "        logits_sim, logits_ent = model(**batch)\n",
        "\n",
        "        # 5. compute loss\n",
        "        # 迴歸 loss (記得 squeeze logits_sim 才能匹配 (batch_size,) 的 shape)\n",
        "        loss_sim = loss_sim_fn(logits_sim.squeeze(), labels_sim)\n",
        "        # 分類 loss\n",
        "        loss_ent = loss_ent_fn(logits_ent, labels_ent)\n",
        "\n",
        "        # 合併兩個 loss\n",
        "        total_loss = loss_sim + loss_ent\n",
        "\n",
        "        # 6. back-propagation\n",
        "        total_loss.backward()\n",
        "\n",
        "        # 7. model optimization\n",
        "        optimizer.step()\n",
        "\n",
        "        total_train_loss += total_loss.item()\n",
        "        pbar.set_postfix({\"loss\": total_loss.item()})\n",
        "\n",
        "    print(f\"Epoch {ep+1} Average Train Loss: {total_train_loss / len(dl_train)}\")\n",
        "\n",
        "    pbar = tqdm(dl_validation)\n",
        "    pbar.set_description(f\"Validation epoch [{ep+1}/{epochs}]\")\n",
        "    model.eval()\n",
        "\n",
        "    # TODO5: Write the evaluation loop\n",
        "    # Write your code here\n",
        "    # Evaluate your model\n",
        "    # Output all the evaluation scores (PearsonCorr, Accuracy)\n",
        "\n",
        "    # 建立 list 來儲存所有預測和標籤\n",
        "    all_preds_sim = []\n",
        "    all_labels_sim = []\n",
        "    all_preds_ent = []\n",
        "    all_labels_ent = []\n",
        "\n",
        "    with torch.no_grad(): # 驗證時不需要計算梯度\n",
        "        for batch in pbar:\n",
        "            # 1. 將資料移動到 device\n",
        "            batch = {k: v.to(device) for k, v in batch.items()}\n",
        "\n",
        "            # 2. 取得標籤\n",
        "            labels_sim = batch['labels_sim']\n",
        "            labels_ent = batch['labels_ent']\n",
        "\n",
        "            # 3. forward pass\n",
        "            logits_sim, logits_ent = model(**batch)\n",
        "\n",
        "            # 4. 處理預測結果\n",
        "            # 迴歸預測 (squeeze)\n",
        "            preds_sim = logits_sim.squeeze()\n",
        "            # 分類預測 (argmax)\n",
        "            preds_ent = torch.argmax(logits_ent, dim=1)\n",
        "\n",
        "            # 5. 收集結果 (移回 CPU)\n",
        "            all_preds_sim.extend(preds_sim.cpu().tolist())\n",
        "            all_labels_sim.extend(labels_sim.cpu().tolist())\n",
        "            all_preds_ent.extend(preds_ent.cpu().tolist())\n",
        "            all_labels_ent.extend(labels_ent.cpu().tolist())\n",
        "\n",
        "    # 在迴圈結束後，計算整體分數\n",
        "\n",
        "    # PearsonCorr [cite: 252]\n",
        "    pearson_corr = psr.compute(\n",
        "        predictions=all_preds_sim,\n",
        "        references=all_labels_sim\n",
        "    )['pearsonr']\n",
        "\n",
        "    # Accuracy [cite: 253]\n",
        "    accuracy = acc.compute(\n",
        "        predictions=all_preds_ent,\n",
        "        references=all_labels_ent\n",
        "    )['accuracy']\n",
        "\n",
        "    print(f\"Epoch {ep+1} Validation:\")\n",
        "    print(f\"Pearson Correlation: {pearson_corr}\")\n",
        "    print(f\"Accuracy: {accuracy}\")\n",
        "\n",
        "    # 儲存最佳模型\n",
        "    # (修正：範本中的 'best' 變數應為 'best_score')\n",
        "    current_score = pearson_corr + accuracy\n",
        "    if current_score > best_score:\n",
        "        best_score = current_score\n",
        "        print(f\"New best score: {best_score}. Saving model...\")\n",
        "        # 確保 saved_models 資料夾存在\n",
        "        import os\n",
        "        os.makedirs(\"./saved_models\", exist_ok=True)\n",
        "        torch.save(model.state_dict(), f'./saved_models/best_model.ckpt')"
      ],
      "metadata": {
        "colab": {
          "base_uri": "https://localhost:8080/"
        },
        "id": "PYWO2lhoA5s6",
        "outputId": "a1d1e875-9b56-4d55-a377-0b6596e0a8e5"
      },
      "execution_count": 10,
      "outputs": [
        {
          "output_type": "stream",
          "name": "stderr",
          "text": [
            "Training epoch [1/3]: 100%|██████████| 563/563 [00:55<00:00, 10.06it/s, loss=1.05]\n"
          ]
        },
        {
          "output_type": "stream",
          "name": "stdout",
          "text": [
            "Epoch 1 Average Train Loss: 1.2791515068940118\n"
          ]
        },
        {
          "output_type": "stream",
          "name": "stderr",
          "text": [
            "Validation epoch [1/3]: 100%|██████████| 63/63 [00:01<00:00, 55.61it/s]\n"
          ]
        },
        {
          "output_type": "stream",
          "name": "stdout",
          "text": [
            "Epoch 1 Validation:\n",
            "Pearson Correlation: 0.8663668483333626\n",
            "Accuracy: 0.864\n",
            "New best score: 1.7303668483333627. Saving model...\n"
          ]
        },
        {
          "output_type": "stream",
          "name": "stderr",
          "text": [
            "Training epoch [2/3]: 100%|██████████| 563/563 [00:56<00:00,  9.94it/s, loss=0.467]\n"
          ]
        },
        {
          "output_type": "stream",
          "name": "stdout",
          "text": [
            "Epoch 2 Average Train Loss: 0.6166293499974755\n"
          ]
        },
        {
          "output_type": "stream",
          "name": "stderr",
          "text": [
            "Validation epoch [2/3]: 100%|██████████| 63/63 [00:01<00:00, 55.21it/s]\n"
          ]
        },
        {
          "output_type": "stream",
          "name": "stdout",
          "text": [
            "Epoch 2 Validation:\n",
            "Pearson Correlation: 0.8694778143956021\n",
            "Accuracy: 0.85\n"
          ]
        },
        {
          "output_type": "stream",
          "name": "stderr",
          "text": [
            "Training epoch [3/3]: 100%|██████████| 563/563 [00:52<00:00, 10.76it/s, loss=0.303]\n"
          ]
        },
        {
          "output_type": "stream",
          "name": "stdout",
          "text": [
            "Epoch 3 Average Train Loss: 0.4929061570001326\n"
          ]
        },
        {
          "output_type": "stream",
          "name": "stderr",
          "text": [
            "Validation epoch [3/3]: 100%|██████████| 63/63 [00:01<00:00, 53.54it/s]\n"
          ]
        },
        {
          "output_type": "stream",
          "name": "stdout",
          "text": [
            "Epoch 3 Validation:\n",
            "Pearson Correlation: 0.8785317529848184\n",
            "Accuracy: 0.89\n",
            "New best score: 1.7685317529848184. Saving model...\n"
          ]
        }
      ]
    },
    {
      "cell_type": "code",
      "execution_count": 11,
      "metadata": {
        "colab": {
          "base_uri": "https://localhost:8080/"
        },
        "id": "Ptp0WSGcBQe0",
        "outputId": "c1a44237-bd18-4d10-9496-3525616c69cc"
      },
      "outputs": [
        {
          "output_type": "stream",
          "name": "stderr",
          "text": [
            "Some weights of RobertaModel were not initialized from the model checkpoint at roberta-base and are newly initialized: ['pooler.dense.bias', 'pooler.dense.weight']\n",
            "You should probably TRAIN this model on a down-stream task to be able to use it for predictions and inference.\n",
            "Test: 100%|██████████| 616/616 [00:10<00:00, 56.50it/s]"
          ]
        },
        {
          "output_type": "stream",
          "name": "stdout",
          "text": [
            "\n",
            "--- Test Set Results ---\n",
            "Final Pearson Correlation: 0.8721033499048236\n",
            "Final Accuracy: 0.8891820580474934\n"
          ]
        },
        {
          "output_type": "stream",
          "name": "stderr",
          "text": [
            "\n"
          ]
        }
      ],
      "source": [
        "# Load the model\n",
        "model = MultiLabelModel().to(device)\n",
        "# 載入我們儲存的最佳模型權重\n",
        "model.load_state_dict(torch.load(f\"./saved_models/best_model.ckpt\", weights_only=True))\n",
        "\n",
        "# Test Loop\n",
        "pbar = tqdm(dl_test, desc=\"Test\")\n",
        "model.eval()\n",
        "\n",
        "# TODO6: Write the test loop\n",
        "# Write your code here\n",
        "# We have loaded the best model with the highest evaluation score for you\n",
        "# Please implement the test loop to evaluate the model on the test dataset\n",
        "# We will have 10% of the total score for the test accuracy and pearson correlation\n",
        "\n",
        "# 建立 list 來儲存所有預測和標籤\n",
        "all_preds_sim = []\n",
        "all_labels_sim = []\n",
        "all_preds_ent = []\n",
        "all_labels_ent = []\n",
        "\n",
        "with torch.no_grad(): # 測試時不需要計算梯度\n",
        "    for batch in pbar:\n",
        "        # 1. 將資料移動到 device\n",
        "        batch = {k: v.to(device) for k, v in batch.items()}\n",
        "\n",
        "        # 2. 取得標籤\n",
        "        labels_sim = batch['labels_sim']\n",
        "        labels_ent = batch['labels_ent']\n",
        "\n",
        "        # 3. forward pass\n",
        "        logits_sim, logits_ent = model(**batch)\n",
        "\n",
        "        # 4. 處理預測結果\n",
        "        preds_sim = logits_sim.squeeze()\n",
        "        preds_ent = torch.argmax(logits_ent, dim=1)\n",
        "\n",
        "        # 5. 收集結果 (移回 CPU)\n",
        "        all_preds_sim.extend(preds_sim.cpu().tolist())\n",
        "        all_labels_sim.extend(labels_sim.cpu().tolist())\n",
        "        all_preds_ent.extend(preds_ent.cpu().tolist())\n",
        "        all_labels_ent.extend(labels_ent.cpu().tolist())\n",
        "\n",
        "# 在迴圈結束後，計算並印出最終的測試分數\n",
        "\n",
        "# PearsonCorr\n",
        "test_pearson_corr = psr.compute(\n",
        "    predictions=all_preds_sim,\n",
        "    references=all_labels_sim\n",
        ")['pearsonr']\n",
        "\n",
        "# Accuracy\n",
        "test_accuracy = acc.compute(\n",
        "    predictions=all_preds_ent,\n",
        "    references=all_labels_ent\n",
        ")['accuracy']\n",
        "\n",
        "print(\"\\n--- Test Set Results ---\")\n",
        "print(f\"Final Pearson Correlation: {test_pearson_corr}\")\n",
        "print(f\"Final Accuracy: {test_accuracy}\")"
      ]
    },
    {
      "cell_type": "code",
      "source": [
        "# --- Error Analysis Cell ---\n",
        "#\n",
        "# 這個儲存格的目的是分析你表現最好的模型 (RoBERTa)\n",
        "# 它會找出模型在驗證集上預測錯誤的範例\n",
        "\n",
        "from transformers import RobertaTokenizer, RobertaModel\n",
        "import torch\n",
        "from tqdm import tqdm\n",
        "\n",
        "# (如果 Colab 斷線了，可能需要重新 import)\n",
        "# from datasets import load_dataset\n",
        "# from torch.utils.data import Dataset, DataLoader\n",
        "# device = \"cuda\" if torch.cuda.is_available() else \"cpu\"\n",
        "\n",
        "print(\"--- Starting Error Analysis for RoBERTa-base ---\")\n",
        "\n",
        "# --- 1. 重新載入 RoBERTa-base Tokenizer ---\n",
        "# (確保我們使用的是 RoBERTa 的 tokenizer)\n",
        "print(\"Loading RoBERTa tokenizer...\")\n",
        "tokenizer = RobertaTokenizer.from_pretrained(\"roberta-base\", cache_dir=\"./cache/\")\n",
        "\n",
        "# --- 2. 重新定義 MultiLabelModel (RoBERTa 版本) ---\n",
        "# (我們必須確保 `MultiLabelModel` class 是 RoBERTa 的架構，而不是 GPT-2)\n",
        "print(\"Defining RoBERTa model architecture...\")\n",
        "class MultiLabelModel(torch.nn.Module):\n",
        "    def __init__(self, *args, **kwargs):\n",
        "        super().__init__(*args, **kwargs)\n",
        "        # 載入 RoBERTa-base\n",
        "        self.bert = RobertaModel.from_pretrained(\n",
        "            \"roberta-base\",\n",
        "            cache_dir=\"./cache/\"\n",
        "        )\n",
        "        hidden_size = self.bert.config.hidden_size\n",
        "        self.regression_head = torch.nn.Linear(hidden_size, 1)\n",
        "        self.classification_head = torch.nn.Linear(hidden_size, 3)\n",
        "\n",
        "    def forward(self, **kwargs):\n",
        "        # RoBERTa 和 BERT 一樣使用 pooler_output\n",
        "        labels_sim = kwargs.pop(\"labels_sim\", None)\n",
        "        labels_ent = kwargs.pop(\"labels_ent\", None)\n",
        "        bert_output = self.bert(**kwargs)\n",
        "        pooled_output = bert_output.pooler_output # 使用 pooler_output\n",
        "        logits_sim = self.regression_head(pooled_output)\n",
        "        logits_ent = self.classification_head(pooled_output)\n",
        "        return logits_sim, logits_ent\n",
        "\n",
        "# --- 3. 載入模型和最佳權重 ---\n",
        "# (假設你最好的模型儲存在 'best_model.ckpt')\n",
        "print(\"Loading best RoBERTa model weights...\")\n",
        "analysis_model = MultiLabelModel().to(device)\n",
        "analysis_model.load_state_dict(torch.load(f\"./saved_models/best_model.ckpt\", weights_only=True))\n",
        "analysis_model.eval() # 設為評估模式\n",
        "\n",
        "# --- 4. 載入驗證資料集 (SemevalDataset 應該已經定義過了) ---\n",
        "print(\"Loading validation dataset...\")\n",
        "validation_dataset = SemevalDataset(split=\"validation\")\n",
        "\n",
        "# --- 5. 遍歷驗證集，找出錯誤 ---\n",
        "print(\"\\n--- Finding Errors in Validation Set ---\")\n",
        "\n",
        "# 建立一個 (value -> name) 的對應表，方便閱讀\n",
        "# 0: NEUTRAL, 1: ENTAILMENT, 2: CONTRADICTION\n",
        "entailment_map = {0: \"NEUTRAL\", 1: \"ENTAILMENT\", 2: \"CONTRADICTION\"}\n",
        "\n",
        "# 設定要印出多少錯誤範例\n",
        "classification_errors_found = 0\n",
        "regression_errors_found = 0\n",
        "max_errors_to_show = 15\n",
        "\n",
        "with torch.no_grad():\n",
        "    # 我們將會逐筆分析 (batch size 1)，這樣最清楚\n",
        "    for data_point in tqdm(validation_dataset, desc=\"Analyzing...\"):\n",
        "\n",
        "        # 1. 取得資料並手動打包 (batch size 1)\n",
        "        premise = data_point['premise']\n",
        "        hypothesis = data_point['hypothesis']\n",
        "        label_sim = data_point['relatedness_score']\n",
        "        label_ent = data_point['entailment_judgment']\n",
        "\n",
        "        # 2. Tokenize\n",
        "        inputs = tokenizer(\n",
        "            premise,\n",
        "            hypothesis,\n",
        "            padding=True,\n",
        "            truncation=True,\n",
        "            return_tensors=\"pt\"\n",
        "        ).to(device)\n",
        "\n",
        "        # 3. 預測\n",
        "        logits_sim, logits_ent = analysis_model(**inputs)\n",
        "\n",
        "        # 4. 取得預測結果\n",
        "        pred_sim = logits_sim.squeeze().item()\n",
        "        pred_ent = torch.argmax(logits_ent, dim=1).item()\n",
        "\n",
        "        # --- 5. 檢查並印出錯誤 ---\n",
        "\n",
        "        # 檢查分類錯誤\n",
        "        if pred_ent != label_ent and classification_errors_found < max_errors_to_show:\n",
        "            print(f\"\\n[CLASSIFICATION ERROR #{classification_errors_found + 1}]\")\n",
        "            print(f\"  PREMISE:    {premise}\")\n",
        "            print(f\"  HYPOTHESIS: {hypothesis}\")\n",
        "            print(f\"  MODEL PREDICTED: {entailment_map[pred_ent]}\")\n",
        "            print(f\"  TRUE LABEL:      {entailment_map[label_ent]}\")\n",
        "            classification_errors_found += 1\n",
        "\n",
        "        # 檢查迴歸錯誤 (例如：誤差大於 1.0)\n",
        "        sim_error = abs(pred_sim - label_sim)\n",
        "        if sim_error > 1.0 and regression_errors_found < max_errors_to_show:\n",
        "            print(f\"\\n[REGRESSION ERROR #{regression_errors_found + 1}]\")\n",
        "            print(f\"  PREMISE:    {premise}\")\n",
        "            print(f\"  HYPOTHESIS: {hypothesis}\")\n",
        "            print(f\"  MODEL PREDICTED: {pred_sim:.2f}\")\n",
        "            print(f\"  TRUE LABEL:      {label_sim:.2f} (Error: {sim_error:.2f})\")\n",
        "            regression_errors_found += 1\n",
        "\n",
        "        if classification_errors_found >= max_errors_to_show and regression_errors_found >= max_errors_to_show:\n",
        "            print(\"\\n--- Analysis complete: Reached max errors to show. ---\")\n",
        "            break\n",
        "\n",
        "if not (classification_errors_found >= max_errors_to_show and regression_errors_found >= max_errors_to_show):\n",
        "    print(\"\\n--- Analysis complete: All validation data checked. ---\")"
      ],
      "metadata": {
        "id": "qbUjk1LyHwpE",
        "colab": {
          "base_uri": "https://localhost:8080/"
        },
        "outputId": "aaac2981-d509-4653-9433-7568c1b96909"
      },
      "execution_count": 12,
      "outputs": [
        {
          "output_type": "stream",
          "name": "stdout",
          "text": [
            "--- Starting Error Analysis for RoBERTa-base ---\n",
            "Loading RoBERTa tokenizer...\n",
            "Defining RoBERTa model architecture...\n",
            "Loading best RoBERTa model weights...\n"
          ]
        },
        {
          "output_type": "stream",
          "name": "stderr",
          "text": [
            "Some weights of RobertaModel were not initialized from the model checkpoint at roberta-base and are newly initialized: ['pooler.dense.bias', 'pooler.dense.weight']\n",
            "You should probably TRAIN this model on a down-stream task to be able to use it for predictions and inference.\n"
          ]
        },
        {
          "output_type": "stream",
          "name": "stdout",
          "text": [
            "Loading validation dataset...\n",
            "\n",
            "--- Finding Errors in Validation Set ---\n"
          ]
        },
        {
          "output_type": "stream",
          "name": "stderr",
          "text": [
            "Analyzing...:   2%|▏         | 10/500 [00:00<00:05, 95.21it/s]"
          ]
        },
        {
          "output_type": "stream",
          "name": "stdout",
          "text": [
            "\n",
            "[CLASSIFICATION ERROR #1]\n",
            "  PREMISE:    Two dogs are playing by a tree\n",
            "  HYPOTHESIS: Two dogs are playing by a plant\n",
            "  MODEL PREDICTED: NEUTRAL\n",
            "  TRUE LABEL:      ENTAILMENT\n"
          ]
        },
        {
          "output_type": "stream",
          "name": "stderr",
          "text": [
            "\rAnalyzing...:   4%|▍         | 22/500 [00:00<00:04, 105.27it/s]"
          ]
        },
        {
          "output_type": "stream",
          "name": "stdout",
          "text": [
            "\n",
            "[CLASSIFICATION ERROR #2]\n",
            "  PREMISE:    A group of scouts are hiking through the grass\n",
            "  HYPOTHESIS: A group of explorers are walking through the grass\n",
            "  MODEL PREDICTED: ENTAILMENT\n",
            "  TRUE LABEL:      NEUTRAL\n",
            "\n",
            "[REGRESSION ERROR #1]\n",
            "  PREMISE:    A lady is surfing and riding a wave\n",
            "  HYPOTHESIS: A blond girl is looking at the waves\n",
            "  MODEL PREDICTED: 1.78\n",
            "  TRUE LABEL:      3.30 (Error: 1.52)\n",
            "\n",
            "[CLASSIFICATION ERROR #3]\n",
            "  PREMISE:    The woman wearing silver pants, pink bellbottoms and a pink scarf is riding a bike\n",
            "  HYPOTHESIS: Pink bellbottoms and a pink scarf aren't to be worn by women with silver pants or bike riding people\n",
            "  MODEL PREDICTED: CONTRADICTION\n",
            "  TRUE LABEL:      NEUTRAL\n",
            "\n",
            "[CLASSIFICATION ERROR #4]\n",
            "  PREMISE:    A woman is taking off a cloak, which is very large, and revealing an extravagant dress\n",
            "  HYPOTHESIS: A woman is putting on a cloak, which is very large, and concealing an extravagant dress\n",
            "  MODEL PREDICTED: NEUTRAL\n",
            "  TRUE LABEL:      CONTRADICTION\n"
          ]
        },
        {
          "output_type": "stream",
          "name": "stderr",
          "text": [
            "\rAnalyzing...:   7%|▋         | 33/500 [00:00<00:04, 104.29it/s]"
          ]
        },
        {
          "output_type": "stream",
          "name": "stdout",
          "text": [
            "\n",
            "[CLASSIFICATION ERROR #5]\n",
            "  PREMISE:    A person is climbing a rock with a rope, which is pink\n",
            "  HYPOTHESIS: One man is climbing a cliff with a rope\n",
            "  MODEL PREDICTED: ENTAILMENT\n",
            "  TRUE LABEL:      NEUTRAL\n",
            "\n",
            "[CLASSIFICATION ERROR #6]\n",
            "  PREMISE:    A few men in a competition are running outside\n",
            "  HYPOTHESIS: A few men in a competition are running indoors\n",
            "  MODEL PREDICTED: NEUTRAL\n",
            "  TRUE LABEL:      CONTRADICTION\n",
            "\n",
            "[CLASSIFICATION ERROR #7]\n",
            "  PREMISE:    A few men in a competition are running outside\n",
            "  HYPOTHESIS: A few men are running competitions outside\n",
            "  MODEL PREDICTED: ENTAILMENT\n",
            "  TRUE LABEL:      NEUTRAL\n"
          ]
        },
        {
          "output_type": "stream",
          "name": "stderr",
          "text": [
            "Analyzing...:  16%|█▋        | 82/500 [00:00<00:03, 115.51it/s]"
          ]
        },
        {
          "output_type": "stream",
          "name": "stdout",
          "text": [
            "\n",
            "[CLASSIFICATION ERROR #8]\n",
            "  PREMISE:    A woman is dancing and singing alone\n",
            "  HYPOTHESIS: A woman is dancing and singing with other women\n",
            "  MODEL PREDICTED: NEUTRAL\n",
            "  TRUE LABEL:      CONTRADICTION\n",
            "\n",
            "[REGRESSION ERROR #2]\n",
            "  PREMISE:    A man is playing flute\n",
            "  HYPOTHESIS: A man is playing a game with a ball\n",
            "  MODEL PREDICTED: 3.42\n",
            "  TRUE LABEL:      1.50 (Error: 1.92)\n",
            "\n",
            "[CLASSIFICATION ERROR #9]\n",
            "  PREMISE:    A man is playing a guitar\n",
            "  HYPOTHESIS: A man is strumming a guitar\n",
            "  MODEL PREDICTED: NEUTRAL\n",
            "  TRUE LABEL:      ENTAILMENT\n",
            "\n",
            "[REGRESSION ERROR #3]\n",
            "  PREMISE:    Three men are practicing karate outdoors\n",
            "  HYPOTHESIS: Three boys in karate costumes are fighting\n",
            "  MODEL PREDICTED: 2.35\n",
            "  TRUE LABEL:      3.80 (Error: 1.45)\n",
            "\n",
            "[CLASSIFICATION ERROR #10]\n",
            "  PREMISE:    A hole is being burrowed by the badger\n",
            "  HYPOTHESIS: A badger is shrewdly digging the earth\n",
            "  MODEL PREDICTED: NEUTRAL\n",
            "  TRUE LABEL:      ENTAILMENT\n",
            "\n",
            "[CLASSIFICATION ERROR #11]\n",
            "  PREMISE:    Some ingredients are being mixed in a bowl by a person\n",
            "  HYPOTHESIS: Some ingredients are being separated in a bowl by a person\n",
            "  MODEL PREDICTED: ENTAILMENT\n",
            "  TRUE LABEL:      NEUTRAL\n"
          ]
        },
        {
          "output_type": "stream",
          "name": "stderr",
          "text": [
            "Analyzing...:  21%|██▏       | 107/500 [00:00<00:03, 117.50it/s]"
          ]
        },
        {
          "output_type": "stream",
          "name": "stdout",
          "text": [
            "\n",
            "[CLASSIFICATION ERROR #12]\n",
            "  PREMISE:    The kittens on the trays are being eaten as food for an advertisement\n",
            "  HYPOTHESIS: The food on the trays is being eaten by the kittens\n",
            "  MODEL PREDICTED: ENTAILMENT\n",
            "  TRUE LABEL:      NEUTRAL\n",
            "\n",
            "[REGRESSION ERROR #4]\n",
            "  PREMISE:    The kittens on the trays are being eaten as food for an advertisement\n",
            "  HYPOTHESIS: The food on the trays is being eaten by the kittens\n",
            "  MODEL PREDICTED: 4.60\n",
            "  TRUE LABEL:      3.50 (Error: 1.10)\n",
            "\n",
            "[CLASSIFICATION ERROR #13]\n",
            "  PREMISE:    The food on the trays is being eaten by the kittens\n",
            "  HYPOTHESIS: A few kittens are eating\n",
            "  MODEL PREDICTED: NEUTRAL\n",
            "  TRUE LABEL:      ENTAILMENT\n",
            "\n",
            "[CLASSIFICATION ERROR #14]\n",
            "  PREMISE:    A lady is cutting up some meat precisely\n",
            "  HYPOTHESIS: Some meat is being cut into pieces by a woman\n",
            "  MODEL PREDICTED: NEUTRAL\n",
            "  TRUE LABEL:      ENTAILMENT\n",
            "\n",
            "[CLASSIFICATION ERROR #15]\n",
            "  PREMISE:    The man is denying an interview\n",
            "  HYPOTHESIS: The man is granting an interview\n",
            "  MODEL PREDICTED: NEUTRAL\n",
            "  TRUE LABEL:      CONTRADICTION\n",
            "\n",
            "[REGRESSION ERROR #5]\n",
            "  PREMISE:    The man is not slicing the potato\n",
            "  HYPOTHESIS: The man is slicing a potato\n",
            "  MODEL PREDICTED: 4.03\n",
            "  TRUE LABEL:      2.70 (Error: 1.33)\n"
          ]
        },
        {
          "output_type": "stream",
          "name": "stderr",
          "text": [
            "Analyzing...:  29%|██▊       | 143/500 [00:01<00:03, 115.86it/s]"
          ]
        },
        {
          "output_type": "stream",
          "name": "stdout",
          "text": [
            "\n",
            "[REGRESSION ERROR #6]\n",
            "  PREMISE:    There is no cat eating corn on the cob\n",
            "  HYPOTHESIS: A cat is eating some corn\n",
            "  MODEL PREDICTED: 4.04\n",
            "  TRUE LABEL:      2.50 (Error: 1.54)\n",
            "\n",
            "[REGRESSION ERROR #7]\n",
            "  PREMISE:    The monkey is brushing a bull dog\n",
            "  HYPOTHESIS: A bull dog is brushing the monkey\n",
            "  MODEL PREDICTED: 4.99\n",
            "  TRUE LABEL:      3.90 (Error: 1.09)\n",
            "\n",
            "[REGRESSION ERROR #8]\n",
            "  PREMISE:    The person is slicing a clove of garlic into pieces\n",
            "  HYPOTHESIS: The person is not slicing a clove of garlic into pieces\n",
            "  MODEL PREDICTED: 4.30\n",
            "  TRUE LABEL:      3.00 (Error: 1.30)\n",
            "\n",
            "[REGRESSION ERROR #9]\n",
            "  PREMISE:    The man is kick boxing with a trainer\n",
            "  HYPOTHESIS: A karate practitioner is kicking at another man who is wearing protective boxing gloves\n",
            "  MODEL PREDICTED: 2.56\n",
            "  TRUE LABEL:      4.00 (Error: 1.44)\n",
            "\n",
            "[REGRESSION ERROR #10]\n",
            "  PREMISE:    A woman on a rock is lying on a blanket and reading a book\n",
            "  HYPOTHESIS: A woman is rocking over a blanket lying on someone reading a book\n",
            "  MODEL PREDICTED: 3.76\n",
            "  TRUE LABEL:      2.70 (Error: 1.06)\n",
            "\n",
            "[REGRESSION ERROR #11]\n",
            "  PREMISE:    A woman is taking a mixture out of a bowl\n",
            "  HYPOTHESIS: A woman is preparing an egg in a skillet\n",
            "  MODEL PREDICTED: 1.47\n",
            "  TRUE LABEL:      2.70 (Error: 1.23)\n"
          ]
        },
        {
          "output_type": "stream",
          "name": "stderr",
          "text": [
            "Analyzing...:  36%|███▌      | 181/500 [00:01<00:02, 118.98it/s]"
          ]
        },
        {
          "output_type": "stream",
          "name": "stdout",
          "text": [
            "\n",
            "[REGRESSION ERROR #12]\n",
            "  PREMISE:    A monkey is kicking at a person's glove\n",
            "  HYPOTHESIS: The monkey is practicing martial arts\n",
            "  MODEL PREDICTED: 2.55\n",
            "  TRUE LABEL:      3.60 (Error: 1.05)\n",
            "\n",
            "[REGRESSION ERROR #13]\n",
            "  PREMISE:    The man is not dancing\n",
            "  HYPOTHESIS: A woman is dancing\n",
            "  MODEL PREDICTED: 1.87\n",
            "  TRUE LABEL:      3.30 (Error: 1.43)\n"
          ]
        },
        {
          "output_type": "stream",
          "name": "stderr",
          "text": [
            "\rAnalyzing...:  38%|███▊      | 191/500 [00:01<00:02, 114.11it/s]\n"
          ]
        },
        {
          "output_type": "stream",
          "name": "stdout",
          "text": [
            "\n",
            "[REGRESSION ERROR #14]\n",
            "  PREMISE:    A woman is collecting the water from a tap in a mug\n",
            "  HYPOTHESIS: A boy is filling a pitcher with water\n",
            "  MODEL PREDICTED: 1.66\n",
            "  TRUE LABEL:      2.70 (Error: 1.04)\n",
            "\n",
            "[REGRESSION ERROR #15]\n",
            "  PREMISE:    It is raining on a walking man\n",
            "  HYPOTHESIS: A man is walking in the rain\n",
            "  MODEL PREDICTED: 3.65\n",
            "  TRUE LABEL:      4.90 (Error: 1.25)\n",
            "\n",
            "--- Analysis complete: Reached max errors to show. ---\n"
          ]
        }
      ]
    }
  ],
  "metadata": {
    "kernelspec": {
      "display_name": "Python 3",
      "name": "python3"
    },
    "language_info": {
      "codemirror_mode": {
        "name": "ipython",
        "version": 3
      },
      "file_extension": ".py",
      "mimetype": "text/x-python",
      "name": "python",
      "nbconvert_exporter": "python",
      "pygments_lexer": "ipython3",
      "version": "3.10.14"
    },
    "colab": {
      "provenance": [],
      "gpuType": "T4",
      "include_colab_link": true
    },
    "accelerator": "GPU"
  },
  "nbformat": 4,
  "nbformat_minor": 0
}